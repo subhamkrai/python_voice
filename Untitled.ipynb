{
 "cells": [
  {
   "cell_type": "code",
   "execution_count": 37,
   "metadata": {
    "scrolled": true
   },
   "outputs": [
    {
     "name": "stderr",
     "output_type": "stream",
     "text": [
      "WARNING:gtts.tts:Unable to get language list: 'NoneType' object is not subscriptable\n"
     ]
    },
    {
     "name": "stdout",
     "output_type": "stream",
     "text": [
      "what you want to search in YouTube search cricket\n",
      "what you want to search in YouTube search cricket\n",
      "['what', 'you', 'want', 'to', 'search', 'in', 'YouTube', 'search', 'cricket']\n",
      "https://www.youtube.com/watch?v=RnBT9uUYb1w\n",
      "https://www.youtube.com/watch?v=vDoF_QsQhEk\n",
      "Title: Funny Cricket Fielding Moments - Try not to Laugh Challenge!\n",
      "Author: A7 Cricket\n",
      "ID: vDoF_QsQhEk\n",
      "Duration: 00:11:00\n",
      "Rating: 4.46601581573\n",
      "Views: 3768466\n",
      "Thumbnail: http://i.ytimg.com/vi/vDoF_QsQhEk/default.jpg\n",
      "Keywords: dhoni jadeja funny, dhoni jadeja funny video, dhoni scares jadeja, dhoni ipl 2018, funny cricket, funny cricket moments, funny cricket moments in ipl, funny cricket fails, funny cricket fielding, funniest cricket moments, funniest cricket moments ever, a7 cricket, cricket live, cricket highlights\n",
      "normal:mp4@1280x720\n",
      "https://r3---sn-gwpa-qxa6.googlevideo.com/videoplayback?itag=22&mn=sn-gwpa-qxa6%2Csn-qxa7sn7l&mm=31%2C29&fvip=3&ip=2405%3A205%3A1280%3A2b5d%3A4d1c%3A4d24%3Abdca%3A2cf0&mime=video%2Fmp4&signature=6BBBECA3EA299D81B9F21C58A76B0C89696054A1.534BBBD92669DC002DD8714AED103BB53E8EFD76&ratebypass=yes&expire=1527644196&initcwndbps=248750&mv=m&pl=36&mt=1527622483&ms=au%2Crdu&ipbits=0&lmt=1526295063478589&requiressl=yes&sparams=dur%2Cei%2Cid%2Cinitcwndbps%2Cip%2Cipbits%2Citag%2Clmt%2Cmime%2Cmm%2Cmn%2Cms%2Cmv%2Cpl%2Cratebypass%2Crequiressl%2Csource%2Cexpire&c=WEB&source=youtube&id=o-AORVbYI2c0uspXcFoFoxpZaTTtb4-MnXeppsUyGkEKH_&dur=659.655&key=yt6&ei=xKsNW4C7H7-Fz7sPq8iSoAs\n",
      "<vlc.Instance object at 0x7fe7ce102160>\n",
      "<vlc.MediaPlayer object at 0x7fe7ce102c18>\n",
      "<vlc.Media object at 0x7fe7cdd94208>\n"
     ]
    },
    {
     "data": {
      "text/plain": [
       "0"
      ]
     },
     "execution_count": 37,
     "metadata": {},
     "output_type": "execute_result"
    }
   ],
   "source": [
    "#!/usr/bin/python3\n",
    "\n",
    "import pafy\n",
    "import vlc\n",
    "from os import system\n",
    "import urllib.request\n",
    "import urllib.parse\n",
    "import re\n",
    "\n",
    "import speech_recognition as sr\n",
    "import apiai\n",
    "from gtts import gTTS\n",
    "from pygame import mixer\n",
    "mixer.init()\n",
    "r = sr.Recognizer()\n",
    "with sr.Microphone() as source:\n",
    "\tsystem('clear')\t\t\n",
    "\tr.adjust_for_ambient_noise(source, duration=1)\n",
    "\t#print(\"Say something!\")\n",
    "\ttts=gTTS(text=\"what you want to search in youtube\")\n",
    "\ttts.save(\"a21.mp3\")\n",
    "\tmixer.music.load(\"a21.mp3\")\n",
    "\tmixer.music.play()\n",
    "\taudio=r.listen(source,phrase_time_limit=15)\n",
    "        \n",
    "print(r.recognize_google(audio))\n",
    "query = r.recognize_google(audio)\n",
    "print(query)\n",
    "words = query.split(\" \")\n",
    "print(list(words))\n",
    "a=list(words)\n",
    "\n",
    "for i in range(len(a)):\n",
    "    if a[i] == \"search\" or a[i] == \"Search\":\n",
    "        query_string = urllib.parse.urlencode({\"search_query\" : a[i+1]})\n",
    "        html_content = urllib.request.urlopen(\"https://www.youtube.com/results?\" + query_string)\n",
    "        search_results = re.findall(r'href=\\\"\\/watch\\?v=(.{11})', html_content.read().decode())\n",
    "        url=\"https://www.youtube.com/watch?v=\" + search_results[0]\n",
    "        print(url)\n",
    "\n",
    "\n",
    "#Instance = vlc.Instance()\n",
    "#player = Instance.media_player_new()\n",
    "#Media = Instance.media_new(url)\n",
    "#Media.get_mrl()\n",
    "#player.set_media(Media)\n",
    "#player.play()\n",
    "\n",
    "\n",
    "\n",
    "\n",
    "\n",
    "\n",
    "\n",
    "\n",
    "#os.system(\"vlc \"+url)\n",
    "\n",
    "\n",
    "video = pafy.new(url)\n",
    "print(video)\n",
    "best = video.getbest()\n",
    "print(best)\n",
    "playurl = best.url\n",
    "print(playurl)\n",
    "Instance = vlc.Instance()\n",
    "print(Instance)\n",
    "player = Instance.media_player_new()\n",
    "print(player)\n",
    "Media = Instance.media_new(url)\n",
    "print(Media)\n",
    "Media.get_mrl()\n",
    "player.set_media(Media)\n",
    "player.play()\n",
    "\n",
    "\n"
   ]
  },
  {
   "cell_type": "code",
   "execution_count": 17,
   "metadata": {},
   "outputs": [],
   "source": [
    "player.pause()\n",
    "#player.resume()"
   ]
  },
  {
   "cell_type": "code",
   "execution_count": 10,
   "metadata": {},
   "outputs": [
    {
     "ename": "AttributeError",
     "evalue": "'MediaPlayer' object has no attribute 'next'",
     "output_type": "error",
     "traceback": [
      "\u001b[0;31m---------------------------------------------------------------------------\u001b[0m",
      "\u001b[0;31mAttributeError\u001b[0m                            Traceback (most recent call last)",
      "\u001b[0;32m<ipython-input-10-8899cc4daed6>\u001b[0m in \u001b[0;36m<module>\u001b[0;34m()\u001b[0m\n\u001b[0;32m----> 1\u001b[0;31m \u001b[0mplayer\u001b[0m\u001b[0;34m.\u001b[0m\u001b[0mnext\u001b[0m\u001b[0;34m(\u001b[0m\u001b[0;34m)\u001b[0m\u001b[0;34m\u001b[0m\u001b[0m\n\u001b[0m",
      "\u001b[0;31mAttributeError\u001b[0m: 'MediaPlayer' object has no attribute 'next'"
     ]
    }
   ],
   "source": [
    "player.next()"
   ]
  },
  {
   "cell_type": "code",
   "execution_count": 14,
   "metadata": {},
   "outputs": [],
   "source": [
    "player.stop()\n"
   ]
  },
  {
   "cell_type": "code",
   "execution_count": 1,
   "metadata": {},
   "outputs": [
    {
     "name": "stdout",
     "output_type": "stream",
     "text": [
      "cricket\n",
      "https://www.youtube.com/watch?v=vDoF_QsQhEk\n",
      "Title: Funny Cricket Fielding Moments - Try not to Laugh Challenge!\n",
      "Author: A7 Cricket\n",
      "ID: vDoF_QsQhEk\n",
      "Duration: 00:11:00\n",
      "Rating: 4.46605014801\n",
      "Views: 3768466\n",
      "Thumbnail: http://i.ytimg.com/vi/vDoF_QsQhEk/default.jpg\n",
      "Keywords: dhoni jadeja funny, dhoni jadeja funny video, dhoni scares jadeja, dhoni ipl 2018, funny cricket, funny cricket moments, funny cricket moments in ipl, funny cricket fails, funny cricket fielding, funniest cricket moments, funniest cricket moments ever, a7 cricket, cricket live, cricket highlights\n",
      "normal:mp4@1280x720\n",
      "https://r1---sn-tv0cgv5qc5oq-5hqe.googlevideo.com/videoplayback?ip=123.201.179.206&itag=22&lmt=1526295063478589&ratebypass=yes&requiressl=yes&sparams=dur%2Cei%2Cid%2Cinitcwndbps%2Cip%2Cipbits%2Citag%2Clmt%2Cmime%2Cmm%2Cmn%2Cms%2Cmv%2Cpl%2Cratebypass%2Crequiressl%2Csource%2Cexpire&id=o-AJE6eD0hYubDu2b6lj8TESToCLq4XndHutqEbgISAUw0&source=youtube&fvip=3&dur=659.655&mime=video%2Fmp4&initcwndbps=408750&mn=sn-tv0cgv5qc5oq-5hqe%2Csn-cvh7kney&mm=31%2C29&mv=m&pl=24&mt=1527623517&ms=au%2Crdu&ipbits=0&ei=368NW7niHqiuowOIo5HgDw&signature=B9B28994F5D894F32C1D4D51082F227ED80BA620.3677C7BBDC3078E7445213BE0D2A5FB8CFB1AEB9&c=WEB&expire=1527645247&key=yt6\n",
      "<vlc.Instance object at 0x7fce2c064fd0>\n",
      "<vlc.MediaPlayer object at 0x7fce2c064860>\n",
      "<vlc.Media object at 0x7fce2c0647f0>\n"
     ]
    },
    {
     "data": {
      "text/plain": [
       "0"
      ]
     },
     "execution_count": 1,
     "metadata": {},
     "output_type": "execute_result"
    }
   ],
   "source": [
    "import pafy\n",
    "import vlc\n",
    "#from os import system\n",
    "import urllib.request\n",
    "import urllib.parse\n",
    "import re\n",
    "\n",
    "query_string = urllib.parse.urlencode({\"search_query\" : input()})\n",
    "html_content = urllib.request.urlopen(\"https://www.youtube.com/results?\" + query_string)\n",
    "search_results = re.findall(r'href=\\\"\\/watch\\?v=(.{11})', html_content.read().decode())\n",
    "url=\"https://www.youtube.com/watch?v=\" + search_results[0]\n",
    "print(url)\n",
    "\n",
    "video = pafy.new(url)\n",
    "best = video.getbest()\n",
    "playurl = best.url\n",
    "Instance = vlc.Instance()\n",
    "player = Instance.media_player_new()\n",
    "Media = Instance.media_new(url)\n",
    "Media.get_mrl()\n",
    "player.set_media(Media)\n",
    "player.play()\n"
   ]
  },
  {
   "cell_type": "code",
   "execution_count": 2,
   "metadata": {},
   "outputs": [
    {
     "name": "stdout",
     "output_type": "stream",
     "text": [
      "cricket\n",
      "https://www.youtube.com/watch?v=vDoF_QsQhEk\n"
     ]
    },
    {
     "data": {
      "text/plain": [
       "0"
      ]
     },
     "execution_count": 2,
     "metadata": {},
     "output_type": "execute_result"
    }
   ],
   "source": [
    "import pafy\n",
    "import vlc\n",
    "#from os import system\n",
    "import urllib.request\n",
    "import urllib.parse\n",
    "import re\n",
    "\n",
    "query_string = urllib.parse.urlencode({\"search_query\" : input()})\n",
    "html_content = urllib.request.urlopen(\"https://www.youtube.com/results?\" + query_string)\n",
    "search_results = re.findall(r'href=\\\"\\/watch\\?v=(.{11})', html_content.read().decode())\n",
    "url=\"https://www.youtube.com/watch?v=\" + search_results[0]\n",
    "print(url)\n",
    "\n",
    "video = pafy.new(url)\n",
    "best = video.getbest()\n",
    "playurl = best.url\n",
    "Instance = vlc.Instance()\n",
    "player = Instance.media_player_new()\n",
    "Media = Instance.media_new(url)\n",
    "Media.get_mrl()\n",
    "player.set_media(Media)\n",
    "player.play()"
   ]
  },
  {
   "cell_type": "code",
   "execution_count": 14,
   "metadata": {},
   "outputs": [
    {
     "name": "stdout",
     "output_type": "stream",
     "text": [
      "https://www.youtube.com/watch?v=vDoF_QsQhEk\n"
     ]
    },
    {
     "data": {
      "text/plain": [
       "0"
      ]
     },
     "execution_count": 14,
     "metadata": {},
     "output_type": "execute_result"
    }
   ],
   "source": [
    "import pafy\n",
    "import vlc\n",
    "import os \n",
    "import urllib.request\n",
    "import urllib.parse\n",
    "import re\n",
    "\n",
    "query_string = urllib.parse.urlencode({\"search_query\" : \"cricket\"})\n",
    "html_content = urllib.request.urlopen(\"https://www.youtube.com/results?\" + query_string)\n",
    "search_results = re.findall(r'href=\\\"\\/watch\\?v=(.{11})', html_content.read().decode())\n",
    "url=\"https://www.youtube.com/watch?v=\" + search_results[0]\n",
    "print(url)\n",
    "\n",
    "#os.system(\"vlc \"+url)\n",
    "\n",
    "'''video = pafy.new(url)\n",
    "best = video.getbest()\n",
    "playurl = best.url'''\n",
    "Instance = vlc.Instance()\n",
    "player = Instance.media_player_new()\n",
    "Media = Instance.media_new(url)\n",
    "Media.get_mrl()\n",
    "player.set_media(Media)\n",
    "player.play()"
   ]
  },
  {
   "cell_type": "code",
   "execution_count": 11,
   "metadata": {},
   "outputs": [],
   "source": [
    "player.stop()"
   ]
  },
  {
   "cell_type": "code",
   "execution_count": 9,
   "metadata": {},
   "outputs": [
    {
     "data": {
      "text/plain": [
       "0"
      ]
     },
     "execution_count": 9,
     "metadata": {},
     "output_type": "execute_result"
    }
   ],
   "source": [
    "player.play()"
   ]
  },
  {
   "cell_type": "code",
   "execution_count": 12,
   "metadata": {},
   "outputs": [],
   "source": [
    "player.pause()"
   ]
  },
  {
   "cell_type": "code",
   "execution_count": null,
   "metadata": {},
   "outputs": [],
   "source": []
  }
 ],
 "metadata": {
  "kernelspec": {
   "display_name": "Python 3",
   "language": "python",
   "name": "python3"
  },
  "language_info": {
   "codemirror_mode": {
    "name": "ipython",
    "version": 3
   },
   "file_extension": ".py",
   "mimetype": "text/x-python",
   "name": "python",
   "nbconvert_exporter": "python",
   "pygments_lexer": "ipython3",
   "version": "3.5.2"
  }
 },
 "nbformat": 4,
 "nbformat_minor": 2
}
